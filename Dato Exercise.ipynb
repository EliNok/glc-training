{
 "cells": [
  {
   "cell_type": "markdown",
   "metadata": {},
   "source": [
    "# Exercise D: Pairwise Recommender (mixing ML models)\n",
    "\n",
    "In this part of the exercise, we'll try to re-create the [GraphLab Create Pathways Demo](http://pathways-demo.herokuapp.com/).\n",
    "\n",
    "A reminder: in this demo, two users select one item each. GraphLab will find a 'path' between these two items - a set of items that ranges from the first to the second item, so that our two users can agree on something in the middle that would satisfy both of them. The similarities between items are based on the result of a train recommender model.\n",
    "\n",
    "The data is the same as in the basic training exercise:\n",
    "<ul>\n",
    "<li>`business.csv.gz`: https://s3.amazonaws.com/dato-datasets/dato-training/business.csv.gz (640.2 KB)\n",
    "<li>`review.csv.gz`: https://s3.amazonaws.com/dato-datasets/dato-training/review.csv.gz (80.4 MB)\n",
    "<li>`user.csv.gz`: https://s3.amazonaws.com/dato-datasets/dato-training/user.csv.gz (1.1 MB)\n",
    "</ul>"
   ]
  },
  {
   "cell_type": "markdown",
   "metadata": {},
   "source": [
    "## Solution Outline\n",
    "1. Load the data.\n",
    "2. Create a recommender model.\n",
    "3. Get the similarity graph from the recommender model.\n",
    "4. Using GraphLab's shortest paths model (from the `graph_analytics` toolkit), write a function that accepts two item IDs as parameters, and returns the shortest path between them in the similarity graph."
   ]
  },
  {
   "cell_type": "markdown",
   "metadata": {},
   "source": [
    "# Try solving this exercise yourself!\n",
    "## If you get in trouble, our proposed solution appears below (with the each cell's execution results)."
   ]
  },
  {
   "cell_type": "markdown",
   "metadata": {},
   "source": [
    "# Proposed Solution"
   ]
  },
  {
   "cell_type": "code",
   "execution_count": 1,
   "metadata": {
    "collapsed": false
   },
   "outputs": [
    {
     "name": "stderr",
     "output_type": "stream",
     "text": [
      "2016-05-20 00:11:40,884 [INFO] graphlab.cython.cy_server, 176: GraphLab Create v1.9 started. Logging: /tmp/graphlab_server_1463695898.log\n"
     ]
    },
    {
     "name": "stdout",
     "output_type": "stream",
     "text": [
      "This non-commercial license of GraphLab Create is assigned to guy4261@gmail.com and will expire on October 26, 2016. For commercial licensing options, visit https://dato.com/buy/.\n"
     ]
    },
    {
     "data": {
      "text/html": [
       "<pre>Finished parsing file /Users/dato/Documents/notebooks/dato_training/glc-training/review.csv.gz</pre>"
      ],
      "text/plain": [
       "Finished parsing file /Users/dato/Documents/notebooks/dato_training/glc-training/review.csv.gz"
      ]
     },
     "metadata": {},
     "output_type": "display_data"
    },
    {
     "data": {
      "text/html": [
       "<pre>Parsing completed. Parsed 100 lines in 1.61145 secs.</pre>"
      ],
      "text/plain": [
       "Parsing completed. Parsed 100 lines in 1.61145 secs."
      ]
     },
     "metadata": {},
     "output_type": "display_data"
    },
    {
     "name": "stdout",
     "output_type": "stream",
     "text": [
      "------------------------------------------------------\n",
      "Inferred types from first 100 line(s) of file as \n",
      "column_type_hints=[str,str,str,int,str,str,str,dict,int,int,int]\n",
      "If parsing fails due to incorrect types, you can correct\n",
      "the inferred type list above and pass it to read_csv in\n",
      "the column_type_hints argument\n",
      "------------------------------------------------------\n"
     ]
    },
    {
     "data": {
      "text/html": [
       "<pre>Read 61212 lines. Lines per second: 20822</pre>"
      ],
      "text/plain": [
       "Read 61212 lines. Lines per second: 20822"
      ]
     },
     "metadata": {},
     "output_type": "display_data"
    },
    {
     "data": {
      "text/html": [
       "<pre>Finished parsing file /Users/dato/Documents/notebooks/dato_training/glc-training/review.csv.gz</pre>"
      ],
      "text/plain": [
       "Finished parsing file /Users/dato/Documents/notebooks/dato_training/glc-training/review.csv.gz"
      ]
     },
     "metadata": {},
     "output_type": "display_data"
    },
    {
     "data": {
      "text/html": [
       "<pre>Parsing completed. Parsed 229907 lines in 6.30049 secs.</pre>"
      ],
      "text/plain": [
       "Parsing completed. Parsed 229907 lines in 6.30049 secs."
      ]
     },
     "metadata": {},
     "output_type": "display_data"
    },
    {
     "data": {
      "text/html": [
       "<div style=\"max-height:1000px;max-width:1500px;overflow:auto;\"><table frame=\"box\" rules=\"cols\">\n",
       "    <tr>\n",
       "        <th style=\"padding-left: 1em; padding-right: 1em; text-align: center\">business_id</th>\n",
       "        <th style=\"padding-left: 1em; padding-right: 1em; text-align: center\">date</th>\n",
       "        <th style=\"padding-left: 1em; padding-right: 1em; text-align: center\">review_id</th>\n",
       "        <th style=\"padding-left: 1em; padding-right: 1em; text-align: center\">stars</th>\n",
       "        <th style=\"padding-left: 1em; padding-right: 1em; text-align: center\">text</th>\n",
       "        <th style=\"padding-left: 1em; padding-right: 1em; text-align: center\">type</th>\n",
       "    </tr>\n",
       "    <tr>\n",
       "        <td style=\"padding-left: 1em; padding-right: 1em; text-align: center; vertical-align: top\">9yKzy9PApeiPPOUJEtnvkg</td>\n",
       "        <td style=\"padding-left: 1em; padding-right: 1em; text-align: center; vertical-align: top\">2011-01-26</td>\n",
       "        <td style=\"padding-left: 1em; padding-right: 1em; text-align: center; vertical-align: top\">fWKvX83p0-ka4JS3dc6E5A</td>\n",
       "        <td style=\"padding-left: 1em; padding-right: 1em; text-align: center; vertical-align: top\">5</td>\n",
       "        <td style=\"padding-left: 1em; padding-right: 1em; text-align: center; vertical-align: top\">My wife took me here on<br>my birthday for break ...</td>\n",
       "        <td style=\"padding-left: 1em; padding-right: 1em; text-align: center; vertical-align: top\">review</td>\n",
       "    </tr>\n",
       "    <tr>\n",
       "        <td style=\"padding-left: 1em; padding-right: 1em; text-align: center; vertical-align: top\">ZRJwVLyzEJq1VAihDhYiow</td>\n",
       "        <td style=\"padding-left: 1em; padding-right: 1em; text-align: center; vertical-align: top\">2011-07-27</td>\n",
       "        <td style=\"padding-left: 1em; padding-right: 1em; text-align: center; vertical-align: top\">IjZ33sJrzXqU-0X6U8NwyA</td>\n",
       "        <td style=\"padding-left: 1em; padding-right: 1em; text-align: center; vertical-align: top\">5</td>\n",
       "        <td style=\"padding-left: 1em; padding-right: 1em; text-align: center; vertical-align: top\">I have no idea why some<br>people give bad reviews ...</td>\n",
       "        <td style=\"padding-left: 1em; padding-right: 1em; text-align: center; vertical-align: top\">review</td>\n",
       "    </tr>\n",
       "    <tr>\n",
       "        <td style=\"padding-left: 1em; padding-right: 1em; text-align: center; vertical-align: top\">6oRAC4uyJCsJl1X0WZpVSA</td>\n",
       "        <td style=\"padding-left: 1em; padding-right: 1em; text-align: center; vertical-align: top\">2012-06-14</td>\n",
       "        <td style=\"padding-left: 1em; padding-right: 1em; text-align: center; vertical-align: top\">IESLBzqUCLdSzSqm0eCSxQ</td>\n",
       "        <td style=\"padding-left: 1em; padding-right: 1em; text-align: center; vertical-align: top\">4</td>\n",
       "        <td style=\"padding-left: 1em; padding-right: 1em; text-align: center; vertical-align: top\">love the gyro plate. Rice<br>is so good and I also ...</td>\n",
       "        <td style=\"padding-left: 1em; padding-right: 1em; text-align: center; vertical-align: top\">review</td>\n",
       "    </tr>\n",
       "</table>\n",
       "<table frame=\"box\" rules=\"cols\">\n",
       "    <tr>\n",
       "        <th style=\"padding-left: 1em; padding-right: 1em; text-align: center\">user_id</th>\n",
       "        <th style=\"padding-left: 1em; padding-right: 1em; text-align: center\">votes</th>\n",
       "        <th style=\"padding-left: 1em; padding-right: 1em; text-align: center\">year</th>\n",
       "        <th style=\"padding-left: 1em; padding-right: 1em; text-align: center\">month</th>\n",
       "        <th style=\"padding-left: 1em; padding-right: 1em; text-align: center\">day</th>\n",
       "    </tr>\n",
       "    <tr>\n",
       "        <td style=\"padding-left: 1em; padding-right: 1em; text-align: center; vertical-align: top\">rLtl8ZkDX5vH5nAx9C3q5Q</td>\n",
       "        <td style=\"padding-left: 1em; padding-right: 1em; text-align: center; vertical-align: top\">{'funny': 0, 'useful': 5,<br>'cool': 2} ...</td>\n",
       "        <td style=\"padding-left: 1em; padding-right: 1em; text-align: center; vertical-align: top\">2011</td>\n",
       "        <td style=\"padding-left: 1em; padding-right: 1em; text-align: center; vertical-align: top\">1</td>\n",
       "        <td style=\"padding-left: 1em; padding-right: 1em; text-align: center; vertical-align: top\">26</td>\n",
       "    </tr>\n",
       "    <tr>\n",
       "        <td style=\"padding-left: 1em; padding-right: 1em; text-align: center; vertical-align: top\">0a2KyEL0d3Yb1V6aivbIuQ</td>\n",
       "        <td style=\"padding-left: 1em; padding-right: 1em; text-align: center; vertical-align: top\">{'funny': 0, 'useful': 0,<br>'cool': 0} ...</td>\n",
       "        <td style=\"padding-left: 1em; padding-right: 1em; text-align: center; vertical-align: top\">2011</td>\n",
       "        <td style=\"padding-left: 1em; padding-right: 1em; text-align: center; vertical-align: top\">7</td>\n",
       "        <td style=\"padding-left: 1em; padding-right: 1em; text-align: center; vertical-align: top\">27</td>\n",
       "    </tr>\n",
       "    <tr>\n",
       "        <td style=\"padding-left: 1em; padding-right: 1em; text-align: center; vertical-align: top\">0hT2KtfLiobPvh6cDC8JQg</td>\n",
       "        <td style=\"padding-left: 1em; padding-right: 1em; text-align: center; vertical-align: top\">{'funny': 0, 'useful': 1,<br>'cool': 0} ...</td>\n",
       "        <td style=\"padding-left: 1em; padding-right: 1em; text-align: center; vertical-align: top\">2012</td>\n",
       "        <td style=\"padding-left: 1em; padding-right: 1em; text-align: center; vertical-align: top\">6</td>\n",
       "        <td style=\"padding-left: 1em; padding-right: 1em; text-align: center; vertical-align: top\">14</td>\n",
       "    </tr>\n",
       "</table>\n",
       "[3 rows x 11 columns]<br/>\n",
       "</div>"
      ],
      "text/plain": [
       "Columns:\n",
       "\tbusiness_id\tstr\n",
       "\tdate\tstr\n",
       "\treview_id\tstr\n",
       "\tstars\tint\n",
       "\ttext\tstr\n",
       "\ttype\tstr\n",
       "\tuser_id\tstr\n",
       "\tvotes\tdict\n",
       "\tyear\tint\n",
       "\tmonth\tint\n",
       "\tday\tint\n",
       "\n",
       "Rows: 3\n",
       "\n",
       "Data:\n",
       "+------------------------+------------+------------------------+-------+\n",
       "|      business_id       |    date    |       review_id        | stars |\n",
       "+------------------------+------------+------------------------+-------+\n",
       "| 9yKzy9PApeiPPOUJEtnvkg | 2011-01-26 | fWKvX83p0-ka4JS3dc6E5A |   5   |\n",
       "| ZRJwVLyzEJq1VAihDhYiow | 2011-07-27 | IjZ33sJrzXqU-0X6U8NwyA |   5   |\n",
       "| 6oRAC4uyJCsJl1X0WZpVSA | 2012-06-14 | IESLBzqUCLdSzSqm0eCSxQ |   4   |\n",
       "+------------------------+------------+------------------------+-------+\n",
       "+-------------------------------+--------+------------------------+\n",
       "|              text             |  type  |        user_id         |\n",
       "+-------------------------------+--------+------------------------+\n",
       "| My wife took me here on my... | review | rLtl8ZkDX5vH5nAx9C3q5Q |\n",
       "| I have no idea why some pe... | review | 0a2KyEL0d3Yb1V6aivbIuQ |\n",
       "| love the gyro plate. Rice ... | review | 0hT2KtfLiobPvh6cDC8JQg |\n",
       "+-------------------------------+--------+------------------------+\n",
       "+-------------------------------+------+-------+-----+\n",
       "|             votes             | year | month | day |\n",
       "+-------------------------------+------+-------+-----+\n",
       "| {'funny': 0, 'useful': 5, ... | 2011 |   1   |  26 |\n",
       "| {'funny': 0, 'useful': 0, ... | 2011 |   7   |  27 |\n",
       "| {'funny': 0, 'useful': 1, ... | 2012 |   6   |  14 |\n",
       "+-------------------------------+------+-------+-----+\n",
       "[3 rows x 11 columns]"
      ]
     },
     "execution_count": 1,
     "metadata": {},
     "output_type": "execute_result"
    }
   ],
   "source": [
    "# load the data\n",
    "import graphlab as gl\n",
    "import os\n",
    "\n",
    "review = gl.SFrame.read_csv('review.csv.gz')\n",
    "review.head(3)"
   ]
  },
  {
   "cell_type": "code",
   "execution_count": 2,
   "metadata": {
    "collapsed": false
   },
   "outputs": [
    {
     "data": {
      "text/html": [
       "<pre>Recsys training: model = ranking_factorization_recommender</pre>"
      ],
      "text/plain": [
       "Recsys training: model = ranking_factorization_recommender"
      ]
     },
     "metadata": {},
     "output_type": "display_data"
    },
    {
     "data": {
      "text/html": [
       "<pre>Preparing data set.</pre>"
      ],
      "text/plain": [
       "Preparing data set."
      ]
     },
     "metadata": {},
     "output_type": "display_data"
    },
    {
     "data": {
      "text/html": [
       "<pre>    Data has 183898 observations with 41120 users and 11507 items.</pre>"
      ],
      "text/plain": [
       "    Data has 183898 observations with 41120 users and 11507 items."
      ]
     },
     "metadata": {},
     "output_type": "display_data"
    },
    {
     "data": {
      "text/html": [
       "<pre>    Data prepared in: 2.01181s</pre>"
      ],
      "text/plain": [
       "    Data prepared in: 2.01181s"
      ]
     },
     "metadata": {},
     "output_type": "display_data"
    },
    {
     "data": {
      "text/html": [
       "<pre>Training ranking_factorization_recommender for recommendations.</pre>"
      ],
      "text/plain": [
       "Training ranking_factorization_recommender for recommendations."
      ]
     },
     "metadata": {},
     "output_type": "display_data"
    },
    {
     "data": {
      "text/html": [
       "<pre>+--------------------------------+--------------------------------------------------+----------+</pre>"
      ],
      "text/plain": [
       "+--------------------------------+--------------------------------------------------+----------+"
      ]
     },
     "metadata": {},
     "output_type": "display_data"
    },
    {
     "data": {
      "text/html": [
       "<pre>| Parameter                      | Description                                      | Value    |</pre>"
      ],
      "text/plain": [
       "| Parameter                      | Description                                      | Value    |"
      ]
     },
     "metadata": {},
     "output_type": "display_data"
    },
    {
     "data": {
      "text/html": [
       "<pre>+--------------------------------+--------------------------------------------------+----------+</pre>"
      ],
      "text/plain": [
       "+--------------------------------+--------------------------------------------------+----------+"
      ]
     },
     "metadata": {},
     "output_type": "display_data"
    },
    {
     "data": {
      "text/html": [
       "<pre>| num_factors                    | Factor Dimension                                 | 32       |</pre>"
      ],
      "text/plain": [
       "| num_factors                    | Factor Dimension                                 | 32       |"
      ]
     },
     "metadata": {},
     "output_type": "display_data"
    },
    {
     "data": {
      "text/html": [
       "<pre>| regularization                 | L2 Regularization on Factors                     | 1e-09    |</pre>"
      ],
      "text/plain": [
       "| regularization                 | L2 Regularization on Factors                     | 1e-09    |"
      ]
     },
     "metadata": {},
     "output_type": "display_data"
    },
    {
     "data": {
      "text/html": [
       "<pre>| solver                         | Solver used for training                         | adagrad  |</pre>"
      ],
      "text/plain": [
       "| solver                         | Solver used for training                         | adagrad  |"
      ]
     },
     "metadata": {},
     "output_type": "display_data"
    },
    {
     "data": {
      "text/html": [
       "<pre>| linear_regularization          | L2 Regularization on Linear Coefficients         | 1e-09    |</pre>"
      ],
      "text/plain": [
       "| linear_regularization          | L2 Regularization on Linear Coefficients         | 1e-09    |"
      ]
     },
     "metadata": {},
     "output_type": "display_data"
    },
    {
     "data": {
      "text/html": [
       "<pre>| ranking_regularization         | Rank-based Regularization Weight                 | 0.25     |</pre>"
      ],
      "text/plain": [
       "| ranking_regularization         | Rank-based Regularization Weight                 | 0.25     |"
      ]
     },
     "metadata": {},
     "output_type": "display_data"
    },
    {
     "data": {
      "text/html": [
       "<pre>| max_iterations                 | Maximum Number of Iterations                     | 25       |</pre>"
      ],
      "text/plain": [
       "| max_iterations                 | Maximum Number of Iterations                     | 25       |"
      ]
     },
     "metadata": {},
     "output_type": "display_data"
    },
    {
     "data": {
      "text/html": [
       "<pre>+--------------------------------+--------------------------------------------------+----------+</pre>"
      ],
      "text/plain": [
       "+--------------------------------+--------------------------------------------------+----------+"
      ]
     },
     "metadata": {},
     "output_type": "display_data"
    },
    {
     "data": {
      "text/html": [
       "<pre>  Optimizing model using SGD; tuning step size.</pre>"
      ],
      "text/plain": [
       "  Optimizing model using SGD; tuning step size."
      ]
     },
     "metadata": {},
     "output_type": "display_data"
    },
    {
     "data": {
      "text/html": [
       "<pre>  Using 22987 / 183898 points for tuning the step size.</pre>"
      ],
      "text/plain": [
       "  Using 22987 / 183898 points for tuning the step size."
      ]
     },
     "metadata": {},
     "output_type": "display_data"
    },
    {
     "data": {
      "text/html": [
       "<pre>+---------+-------------------+------------------------------------------+</pre>"
      ],
      "text/plain": [
       "+---------+-------------------+------------------------------------------+"
      ]
     },
     "metadata": {},
     "output_type": "display_data"
    },
    {
     "data": {
      "text/html": [
       "<pre>| Attempt | Initial Step Size | Estimated Objective Value                |</pre>"
      ],
      "text/plain": [
       "| Attempt | Initial Step Size | Estimated Objective Value                |"
      ]
     },
     "metadata": {},
     "output_type": "display_data"
    },
    {
     "data": {
      "text/html": [
       "<pre>+---------+-------------------+------------------------------------------+</pre>"
      ],
      "text/plain": [
       "+---------+-------------------+------------------------------------------+"
      ]
     },
     "metadata": {},
     "output_type": "display_data"
    },
    {
     "data": {
      "text/html": [
       "<pre>| 0       | 5                 | Not Viable                               |</pre>"
      ],
      "text/plain": [
       "| 0       | 5                 | Not Viable                               |"
      ]
     },
     "metadata": {},
     "output_type": "display_data"
    },
    {
     "data": {
      "text/html": [
       "<pre>| 1       | 1.25              | Not Viable                               |</pre>"
      ],
      "text/plain": [
       "| 1       | 1.25              | Not Viable                               |"
      ]
     },
     "metadata": {},
     "output_type": "display_data"
    },
    {
     "data": {
      "text/html": [
       "<pre>| 2       | 0.3125            | Not Viable                               |</pre>"
      ],
      "text/plain": [
       "| 2       | 0.3125            | Not Viable                               |"
      ]
     },
     "metadata": {},
     "output_type": "display_data"
    },
    {
     "data": {
      "text/html": [
       "<pre>| 3       | 0.078125          | Not Viable                               |</pre>"
      ],
      "text/plain": [
       "| 3       | 0.078125          | Not Viable                               |"
      ]
     },
     "metadata": {},
     "output_type": "display_data"
    },
    {
     "data": {
      "text/html": [
       "<pre>| 4       | 0.0195312         | 2.00885                                  |</pre>"
      ],
      "text/plain": [
       "| 4       | 0.0195312         | 2.00885                                  |"
      ]
     },
     "metadata": {},
     "output_type": "display_data"
    },
    {
     "data": {
      "text/html": [
       "<pre>| 5       | 0.00976562        | 2.25185                                  |</pre>"
      ],
      "text/plain": [
       "| 5       | 0.00976562        | 2.25185                                  |"
      ]
     },
     "metadata": {},
     "output_type": "display_data"
    },
    {
     "data": {
      "text/html": [
       "<pre>| 6       | 0.00488281        | 2.412                                    |</pre>"
      ],
      "text/plain": [
       "| 6       | 0.00488281        | 2.412                                    |"
      ]
     },
     "metadata": {},
     "output_type": "display_data"
    },
    {
     "data": {
      "text/html": [
       "<pre>| 7       | 0.00244141        | 2.48123                                  |</pre>"
      ],
      "text/plain": [
       "| 7       | 0.00244141        | 2.48123                                  |"
      ]
     },
     "metadata": {},
     "output_type": "display_data"
    },
    {
     "data": {
      "text/html": [
       "<pre>+---------+-------------------+------------------------------------------+</pre>"
      ],
      "text/plain": [
       "+---------+-------------------+------------------------------------------+"
      ]
     },
     "metadata": {},
     "output_type": "display_data"
    },
    {
     "data": {
      "text/html": [
       "<pre>| Final   | 0.0195312         | 2.00885                                  |</pre>"
      ],
      "text/plain": [
       "| Final   | 0.0195312         | 2.00885                                  |"
      ]
     },
     "metadata": {},
     "output_type": "display_data"
    },
    {
     "data": {
      "text/html": [
       "<pre>+---------+-------------------+------------------------------------------+</pre>"
      ],
      "text/plain": [
       "+---------+-------------------+------------------------------------------+"
      ]
     },
     "metadata": {},
     "output_type": "display_data"
    },
    {
     "data": {
      "text/html": [
       "<pre>Starting Optimization.</pre>"
      ],
      "text/plain": [
       "Starting Optimization."
      ]
     },
     "metadata": {},
     "output_type": "display_data"
    },
    {
     "data": {
      "text/html": [
       "<pre>+---------+--------------+-------------------+-----------------------+-------------+</pre>"
      ],
      "text/plain": [
       "+---------+--------------+-------------------+-----------------------+-------------+"
      ]
     },
     "metadata": {},
     "output_type": "display_data"
    },
    {
     "data": {
      "text/html": [
       "<pre>| Iter.   | Elapsed Time | Approx. Objective | Approx. Training RMSE | Step Size   |</pre>"
      ],
      "text/plain": [
       "| Iter.   | Elapsed Time | Approx. Objective | Approx. Training RMSE | Step Size   |"
      ]
     },
     "metadata": {},
     "output_type": "display_data"
    },
    {
     "data": {
      "text/html": [
       "<pre>+---------+--------------+-------------------+-----------------------+-------------+</pre>"
      ],
      "text/plain": [
       "+---------+--------------+-------------------+-----------------------+-------------+"
      ]
     },
     "metadata": {},
     "output_type": "display_data"
    },
    {
     "data": {
      "text/html": [
       "<pre>| Initial | 103us        | 2.90956           | 1.21832               |             |</pre>"
      ],
      "text/plain": [
       "| Initial | 103us        | 2.90956           | 1.21832               |             |"
      ]
     },
     "metadata": {},
     "output_type": "display_data"
    },
    {
     "data": {
      "text/html": [
       "<pre>+---------+--------------+-------------------+-----------------------+-------------+</pre>"
      ],
      "text/plain": [
       "+---------+--------------+-------------------+-----------------------+-------------+"
      ]
     },
     "metadata": {},
     "output_type": "display_data"
    },
    {
     "data": {
      "text/html": [
       "<pre>| 1       | 1.16s        | 3.59455           | 1.52076               | 0.0195312   |</pre>"
      ],
      "text/plain": [
       "| 1       | 1.16s        | 3.59455           | 1.52076               | 0.0195312   |"
      ]
     },
     "metadata": {},
     "output_type": "display_data"
    },
    {
     "data": {
      "text/html": [
       "<pre>| 2       | 2.33s        | 2.32753           | 1.16534               | 0.0195312   |</pre>"
      ],
      "text/plain": [
       "| 2       | 2.33s        | 2.32753           | 1.16534               | 0.0195312   |"
      ]
     },
     "metadata": {},
     "output_type": "display_data"
    },
    {
     "data": {
      "text/html": [
       "<pre>| 3       | 3.76s        | 2.26667           | 1.1609                | 0.0195312   |</pre>"
      ],
      "text/plain": [
       "| 3       | 3.76s        | 2.26667           | 1.1609                | 0.0195312   |"
      ]
     },
     "metadata": {},
     "output_type": "display_data"
    },
    {
     "data": {
      "text/html": [
       "<pre>| 4       | 4.96s        | 2.35632           | 1.20507               | 0.0195312   |</pre>"
      ],
      "text/plain": [
       "| 4       | 4.96s        | 2.35632           | 1.20507               | 0.0195312   |"
      ]
     },
     "metadata": {},
     "output_type": "display_data"
    },
    {
     "data": {
      "text/html": [
       "<pre>| 5       | 6.12s        | 2.97923           | 1.42869               | 0.0195312   |</pre>"
      ],
      "text/plain": [
       "| 5       | 6.12s        | 2.97923           | 1.42869               | 0.0195312   |"
      ]
     },
     "metadata": {},
     "output_type": "display_data"
    },
    {
     "data": {
      "text/html": [
       "<pre>| 6       | 7.26s        | 3.05583           | 1.39561               | 0.0195312   |</pre>"
      ],
      "text/plain": [
       "| 6       | 7.26s        | 3.05583           | 1.39561               | 0.0195312   |"
      ]
     },
     "metadata": {},
     "output_type": "display_data"
    },
    {
     "data": {
      "text/html": [
       "<pre>| 7       | 8.41s        | 3.03908           | 1.38197               | 0.0195312   |</pre>"
      ],
      "text/plain": [
       "| 7       | 8.41s        | 3.03908           | 1.38197               | 0.0195312   |"
      ]
     },
     "metadata": {},
     "output_type": "display_data"
    },
    {
     "data": {
      "text/html": [
       "<pre>| 8       | 9.57s        | 2.84046           | 1.3542                | 0.0195312   |</pre>"
      ],
      "text/plain": [
       "| 8       | 9.57s        | 2.84046           | 1.3542                | 0.0195312   |"
      ]
     },
     "metadata": {},
     "output_type": "display_data"
    },
    {
     "data": {
      "text/html": [
       "<pre>| 9       | 10.71s       | 2.86242           | 1.36807               | 0.0195312   |</pre>"
      ],
      "text/plain": [
       "| 9       | 10.71s       | 2.86242           | 1.36807               | 0.0195312   |"
      ]
     },
     "metadata": {},
     "output_type": "display_data"
    },
    {
     "data": {
      "text/html": [
       "<pre>| 10      | 11.84s       | 3.73632           | 1.68053               | 0.0195312   |</pre>"
      ],
      "text/plain": [
       "| 10      | 11.84s       | 3.73632           | 1.68053               | 0.0195312   |"
      ]
     },
     "metadata": {},
     "output_type": "display_data"
    },
    {
     "data": {
      "text/html": [
       "<pre>| 11      | 12.99s       | 3.48532           | 1.51342               | 0.0195312   |</pre>"
      ],
      "text/plain": [
       "| 11      | 12.99s       | 3.48532           | 1.51342               | 0.0195312   |"
      ]
     },
     "metadata": {},
     "output_type": "display_data"
    },
    {
     "data": {
      "text/html": [
       "<pre>| 12      | 14.14s       | 3.12687           | 1.42965               | 0.0195312   |</pre>"
      ],
      "text/plain": [
       "| 12      | 14.14s       | 3.12687           | 1.42965               | 0.0195312   |"
      ]
     },
     "metadata": {},
     "output_type": "display_data"
    },
    {
     "data": {
      "text/html": [
       "<pre>| 13      | 15.29s       | 3.29693           | 1.47236               | 0.0195312   |</pre>"
      ],
      "text/plain": [
       "| 13      | 15.29s       | 3.29693           | 1.47236               | 0.0195312   |"
      ]
     },
     "metadata": {},
     "output_type": "display_data"
    },
    {
     "data": {
      "text/html": [
       "<pre>| 14      | 16.43s       | 3.54362           | 1.5111                | 0.0195312   |</pre>"
      ],
      "text/plain": [
       "| 14      | 16.43s       | 3.54362           | 1.5111                | 0.0195312   |"
      ]
     },
     "metadata": {},
     "output_type": "display_data"
    },
    {
     "data": {
      "text/html": [
       "<pre>| 15      | 17.56s       | 4.69523           | 1.87527               | 0.0195312   |</pre>"
      ],
      "text/plain": [
       "| 15      | 17.56s       | 4.69523           | 1.87527               | 0.0195312   |"
      ]
     },
     "metadata": {},
     "output_type": "display_data"
    },
    {
     "data": {
      "text/html": [
       "<pre>| 16      | 18.69s       | 3.98818           | 1.72883               | 0.0195312   |</pre>"
      ],
      "text/plain": [
       "| 16      | 18.69s       | 3.98818           | 1.72883               | 0.0195312   |"
      ]
     },
     "metadata": {},
     "output_type": "display_data"
    },
    {
     "data": {
      "text/html": [
       "<pre>| 17      | 19.83s       | 3.7391            | 1.58566               | 0.0195312   |</pre>"
      ],
      "text/plain": [
       "| 17      | 19.83s       | 3.7391            | 1.58566               | 0.0195312   |"
      ]
     },
     "metadata": {},
     "output_type": "display_data"
    },
    {
     "data": {
      "text/html": [
       "<pre>| 18      | 20.97s       | 4.47395           | 1.84723               | 0.0195312   |</pre>"
      ],
      "text/plain": [
       "| 18      | 20.97s       | 4.47395           | 1.84723               | 0.0195312   |"
      ]
     },
     "metadata": {},
     "output_type": "display_data"
    },
    {
     "data": {
      "text/html": [
       "<pre>| 19      | 22.10s       | 4.02329           | 1.71715               | 0.0195312   |</pre>"
      ],
      "text/plain": [
       "| 19      | 22.10s       | 4.02329           | 1.71715               | 0.0195312   |"
      ]
     },
     "metadata": {},
     "output_type": "display_data"
    },
    {
     "data": {
      "text/html": [
       "<pre>| 20      | 23.24s       | 4.02678           | 1.71002               | 0.0195312   |</pre>"
      ],
      "text/plain": [
       "| 20      | 23.24s       | 4.02678           | 1.71002               | 0.0195312   |"
      ]
     },
     "metadata": {},
     "output_type": "display_data"
    },
    {
     "data": {
      "text/html": [
       "<pre>| 21      | 24.38s       | 4.22243           | 1.76486               | 0.0195312   |</pre>"
      ],
      "text/plain": [
       "| 21      | 24.38s       | 4.22243           | 1.76486               | 0.0195312   |"
      ]
     },
     "metadata": {},
     "output_type": "display_data"
    },
    {
     "data": {
      "text/html": [
       "<pre>| 22      | 25.51s       | 4.71997           | 1.84741               | 0.0195312   |</pre>"
      ],
      "text/plain": [
       "| 22      | 25.51s       | 4.71997           | 1.84741               | 0.0195312   |"
      ]
     },
     "metadata": {},
     "output_type": "display_data"
    },
    {
     "data": {
      "text/html": [
       "<pre>| 23      | 26.65s       | 4.72736           | 1.87097               | 0.0195312   |</pre>"
      ],
      "text/plain": [
       "| 23      | 26.65s       | 4.72736           | 1.87097               | 0.0195312   |"
      ]
     },
     "metadata": {},
     "output_type": "display_data"
    },
    {
     "data": {
      "text/html": [
       "<pre>| 24      | 28.85s       | DIVERGED          | DIVERGED              | 0.0195312   |</pre>"
      ],
      "text/plain": [
       "| 24      | 28.85s       | DIVERGED          | DIVERGED              | 0.0195312   |"
      ]
     },
     "metadata": {},
     "output_type": "display_data"
    },
    {
     "data": {
      "text/html": [
       "<pre>| RESET   | 29.74s       | 2.91021           | 1.21831               |             |</pre>"
      ],
      "text/plain": [
       "| RESET   | 29.74s       | 2.91021           | 1.21831               |             |"
      ]
     },
     "metadata": {},
     "output_type": "display_data"
    },
    {
     "data": {
      "text/html": [
       "<pre>| 1       | 31.44s       | 2.79433           | 1.33831               | 0.00976562  |</pre>"
      ],
      "text/plain": [
       "| 1       | 31.44s       | 2.79433           | 1.33831               | 0.00976562  |"
      ]
     },
     "metadata": {},
     "output_type": "display_data"
    },
    {
     "data": {
      "text/html": [
       "<pre>| 2       | 33.05s       | 2.73198           | 1.33629               | 0.00976562  |</pre>"
      ],
      "text/plain": [
       "| 2       | 33.05s       | 2.73198           | 1.33629               | 0.00976562  |"
      ]
     },
     "metadata": {},
     "output_type": "display_data"
    },
    {
     "data": {
      "text/html": [
       "<pre>| 3       | 34.45s       | 3.04278           | 1.43976               | 0.00976562  |</pre>"
      ],
      "text/plain": [
       "| 3       | 34.45s       | 3.04278           | 1.43976               | 0.00976562  |"
      ]
     },
     "metadata": {},
     "output_type": "display_data"
    },
    {
     "data": {
      "text/html": [
       "<pre>| 4       | 35.90s       | 2.98384           | 1.40606               | 0.00976562  |</pre>"
      ],
      "text/plain": [
       "| 4       | 35.90s       | 2.98384           | 1.40606               | 0.00976562  |"
      ]
     },
     "metadata": {},
     "output_type": "display_data"
    },
    {
     "data": {
      "text/html": [
       "<pre>| 5       | 37.98s       | 3.00817           | 1.41939               | 0.00976562  |</pre>"
      ],
      "text/plain": [
       "| 5       | 37.98s       | 3.00817           | 1.41939               | 0.00976562  |"
      ]
     },
     "metadata": {},
     "output_type": "display_data"
    },
    {
     "data": {
      "text/html": [
       "<pre>| 6       | 39.32s       | 3.14371           | 1.48802               | 0.00976562  |</pre>"
      ],
      "text/plain": [
       "| 6       | 39.32s       | 3.14371           | 1.48802               | 0.00976562  |"
      ]
     },
     "metadata": {},
     "output_type": "display_data"
    },
    {
     "data": {
      "text/html": [
       "<pre>+---------+--------------+-------------------+-----------------------+-------------+</pre>"
      ],
      "text/plain": [
       "+---------+--------------+-------------------+-----------------------+-------------+"
      ]
     },
     "metadata": {},
     "output_type": "display_data"
    },
    {
     "data": {
      "text/html": [
       "<pre>Optimization Complete: Maximum number of passes through the data reached (hard limit).</pre>"
      ],
      "text/plain": [
       "Optimization Complete: Maximum number of passes through the data reached (hard limit)."
      ]
     },
     "metadata": {},
     "output_type": "display_data"
    },
    {
     "data": {
      "text/html": [
       "<pre>Computing final objective value and training RMSE.</pre>"
      ],
      "text/plain": [
       "Computing final objective value and training RMSE."
      ]
     },
     "metadata": {},
     "output_type": "display_data"
    },
    {
     "data": {
      "text/html": [
       "<pre>       Final objective value: 3.14255</pre>"
      ],
      "text/plain": [
       "       Final objective value: 3.14255"
      ]
     },
     "metadata": {},
     "output_type": "display_data"
    },
    {
     "data": {
      "text/html": [
       "<pre>       Final training RMSE: 1.44933</pre>"
      ],
      "text/plain": [
       "       Final training RMSE: 1.44933"
      ]
     },
     "metadata": {},
     "output_type": "display_data"
    }
   ],
   "source": [
    "# train and evaluate a recommender model\n",
    "train, test = review.random_split(0.8)\n",
    "model = gl.ranking_factorization_recommender.create(observation_data=train, item_id=\"business_id\", target='stars')"
   ]
  },
  {
   "cell_type": "code",
   "execution_count": 3,
   "metadata": {
    "collapsed": false
   },
   "outputs": [
    {
     "data": {
      "text/html": [
       "<pre>recommendations finished on 1000/18438 queries. users per second: 1605.32</pre>"
      ],
      "text/plain": [
       "recommendations finished on 1000/18438 queries. users per second: 1605.32"
      ]
     },
     "metadata": {},
     "output_type": "display_data"
    },
    {
     "data": {
      "text/html": [
       "<pre>recommendations finished on 2000/18438 queries. users per second: 1564.69</pre>"
      ],
      "text/plain": [
       "recommendations finished on 2000/18438 queries. users per second: 1564.69"
      ]
     },
     "metadata": {},
     "output_type": "display_data"
    },
    {
     "data": {
      "text/html": [
       "<pre>recommendations finished on 3000/18438 queries. users per second: 1562.98</pre>"
      ],
      "text/plain": [
       "recommendations finished on 3000/18438 queries. users per second: 1562.98"
      ]
     },
     "metadata": {},
     "output_type": "display_data"
    },
    {
     "data": {
      "text/html": [
       "<pre>recommendations finished on 4000/18438 queries. users per second: 1525.1</pre>"
      ],
      "text/plain": [
       "recommendations finished on 4000/18438 queries. users per second: 1525.1"
      ]
     },
     "metadata": {},
     "output_type": "display_data"
    },
    {
     "data": {
      "text/html": [
       "<pre>recommendations finished on 5000/18438 queries. users per second: 1498.8</pre>"
      ],
      "text/plain": [
       "recommendations finished on 5000/18438 queries. users per second: 1498.8"
      ]
     },
     "metadata": {},
     "output_type": "display_data"
    },
    {
     "data": {
      "text/html": [
       "<pre>recommendations finished on 6000/18438 queries. users per second: 1495.07</pre>"
      ],
      "text/plain": [
       "recommendations finished on 6000/18438 queries. users per second: 1495.07"
      ]
     },
     "metadata": {},
     "output_type": "display_data"
    },
    {
     "data": {
      "text/html": [
       "<pre>recommendations finished on 7000/18438 queries. users per second: 1509.06</pre>"
      ],
      "text/plain": [
       "recommendations finished on 7000/18438 queries. users per second: 1509.06"
      ]
     },
     "metadata": {},
     "output_type": "display_data"
    },
    {
     "data": {
      "text/html": [
       "<pre>recommendations finished on 8000/18438 queries. users per second: 1515.04</pre>"
      ],
      "text/plain": [
       "recommendations finished on 8000/18438 queries. users per second: 1515.04"
      ]
     },
     "metadata": {},
     "output_type": "display_data"
    },
    {
     "data": {
      "text/html": [
       "<pre>recommendations finished on 9000/18438 queries. users per second: 1493.34</pre>"
      ],
      "text/plain": [
       "recommendations finished on 9000/18438 queries. users per second: 1493.34"
      ]
     },
     "metadata": {},
     "output_type": "display_data"
    },
    {
     "data": {
      "text/html": [
       "<pre>recommendations finished on 10000/18438 queries. users per second: 1425.21</pre>"
      ],
      "text/plain": [
       "recommendations finished on 10000/18438 queries. users per second: 1425.21"
      ]
     },
     "metadata": {},
     "output_type": "display_data"
    },
    {
     "data": {
      "text/html": [
       "<pre>recommendations finished on 11000/18438 queries. users per second: 1436.57</pre>"
      ],
      "text/plain": [
       "recommendations finished on 11000/18438 queries. users per second: 1436.57"
      ]
     },
     "metadata": {},
     "output_type": "display_data"
    },
    {
     "data": {
      "text/html": [
       "<pre>recommendations finished on 12000/18438 queries. users per second: 1416.31</pre>"
      ],
      "text/plain": [
       "recommendations finished on 12000/18438 queries. users per second: 1416.31"
      ]
     },
     "metadata": {},
     "output_type": "display_data"
    },
    {
     "data": {
      "text/html": [
       "<pre>recommendations finished on 13000/18438 queries. users per second: 1407.29</pre>"
      ],
      "text/plain": [
       "recommendations finished on 13000/18438 queries. users per second: 1407.29"
      ]
     },
     "metadata": {},
     "output_type": "display_data"
    },
    {
     "data": {
      "text/html": [
       "<pre>recommendations finished on 14000/18438 queries. users per second: 1411.77</pre>"
      ],
      "text/plain": [
       "recommendations finished on 14000/18438 queries. users per second: 1411.77"
      ]
     },
     "metadata": {},
     "output_type": "display_data"
    },
    {
     "data": {
      "text/html": [
       "<pre>recommendations finished on 15000/18438 queries. users per second: 1404.28</pre>"
      ],
      "text/plain": [
       "recommendations finished on 15000/18438 queries. users per second: 1404.28"
      ]
     },
     "metadata": {},
     "output_type": "display_data"
    },
    {
     "data": {
      "text/html": [
       "<pre>recommendations finished on 16000/18438 queries. users per second: 1377.66</pre>"
      ],
      "text/plain": [
       "recommendations finished on 16000/18438 queries. users per second: 1377.66"
      ]
     },
     "metadata": {},
     "output_type": "display_data"
    },
    {
     "data": {
      "text/html": [
       "<pre>recommendations finished on 17000/18438 queries. users per second: 1363.01</pre>"
      ],
      "text/plain": [
       "recommendations finished on 17000/18438 queries. users per second: 1363.01"
      ]
     },
     "metadata": {},
     "output_type": "display_data"
    },
    {
     "data": {
      "text/html": [
       "<pre>recommendations finished on 18000/18438 queries. users per second: 1368.09</pre>"
      ],
      "text/plain": [
       "recommendations finished on 18000/18438 queries. users per second: 1368.09"
      ]
     },
     "metadata": {},
     "output_type": "display_data"
    },
    {
     "name": "stdout",
     "output_type": "stream",
     "text": [
      "\n",
      "Precision and recall summary statistics by cutoff\n",
      "+--------+------------------+------------------+\n",
      "| cutoff |  mean_precision  |   mean_recall    |\n",
      "+--------+------------------+------------------+\n",
      "|   1    | 0.00737607115739 | 0.00269133591959 |\n",
      "|   2    | 0.00829808005207 | 0.00637712730621 |\n",
      "|   3    | 0.00790035072495 | 0.00890106838288 |\n",
      "|   4    | 0.00755233756373 | 0.0113478720666  |\n",
      "|   5    | 0.00689879596486 | 0.0128399362111  |\n",
      "|   6    | 0.00660773041183 | 0.0149578794967  |\n",
      "|   7    | 0.00635333860196 | 0.0163172250346  |\n",
      "|   8    | 0.00614220631305 | 0.0180235024672  |\n",
      "|   9    | 0.00605030673368 | 0.0205076337028  |\n",
      "|   10   | 0.00599305781538 | 0.0225982194086  |\n",
      "+--------+------------------+------------------+\n",
      "[10 rows x 3 columns]\n",
      "\n",
      "('\\nOverall RMSE: ', 1.513615993884949)\n",
      "\n",
      "Per User RMSE (best)\n",
      "+------------------------+-------+------------------+\n",
      "|        user_id         | count |       rmse       |\n",
      "+------------------------+-------+------------------+\n",
      "| ClPqrnBK2P3m-h53Dcl8jg |   1   | 0.00040060186083 |\n",
      "+------------------------+-------+------------------+\n",
      "[1 rows x 3 columns]\n",
      "\n",
      "\n",
      "Per User RMSE (worst)\n",
      "+------------------------+-------+---------------+\n",
      "|        user_id         | count |      rmse     |\n",
      "+------------------------+-------+---------------+\n",
      "| 2HQecKs94C6UV8dyy7ABUA |   1   | 63.7122141695 |\n",
      "+------------------------+-------+---------------+\n",
      "[1 rows x 3 columns]\n",
      "\n",
      "\n",
      "Per Item RMSE (best)\n",
      "+------------------------+-------+------------------+\n",
      "|      business_id       | count |       rmse       |\n",
      "+------------------------+-------+------------------+\n",
      "| fXtPvVb8vbWvAa_mRjq2ig |   1   | 0.00135693993987 |\n",
      "+------------------------+-------+------------------+\n",
      "[1 rows x 3 columns]\n",
      "\n",
      "\n",
      "Per Item RMSE (worst)\n",
      "+------------------------+-------+---------------+\n",
      "|      business_id       | count |      rmse     |\n",
      "+------------------------+-------+---------------+\n",
      "| 64zIp0srer2d7L_-iFbg9A |   7   | 35.4120760177 |\n",
      "+------------------------+-------+---------------+\n",
      "[1 rows x 3 columns]\n",
      "\n"
     ]
    }
   ],
   "source": [
    "e = model.evaluate(test)"
   ]
  },
  {
   "cell_type": "code",
   "execution_count": 4,
   "metadata": {
    "collapsed": false
   },
   "outputs": [
    {
     "data": {
      "text/plain": [
       "1.513615993884949"
      ]
     },
     "execution_count": 4,
     "metadata": {},
     "output_type": "execute_result"
    }
   ],
   "source": [
    "e['rmse_overall']"
   ]
  },
  {
   "cell_type": "code",
   "execution_count": 5,
   "metadata": {
    "collapsed": false
   },
   "outputs": [
    {
     "data": {
      "text/html": [
       "<pre>Getting similar items completed in 1.18674</pre>"
      ],
      "text/plain": [
       "Getting similar items completed in 1.18674"
      ]
     },
     "metadata": {},
     "output_type": "display_data"
    },
    {
     "data": {
      "text/plain": [
       "{'num_edges': 230140, 'num_vertices': 11507}"
      ]
     },
     "execution_count": 5,
     "metadata": {},
     "output_type": "execute_result"
    }
   ],
   "source": [
    "# create a similarity graph\n",
    "similar_items = model.get_similar_items()\n",
    "similarity_graph = gl.SGraph().add_edges(similar_items, src_field='business_id', dst_field='similar')\n",
    "similarity_graph = similarity_graph.add_edges(similar_items, dst_field='business_id', src_field='similar')\n",
    "\n",
    "similarity_graph.summary()"
   ]
  },
  {
   "cell_type": "code",
   "execution_count": 6,
   "metadata": {
    "collapsed": false
   },
   "outputs": [
    {
     "data": {
      "text/html": [
       "<div style=\"max-height:1000px;max-width:1500px;overflow:auto;\"><table frame=\"box\" rules=\"cols\">\n",
       "    <tr>\n",
       "        <th style=\"padding-left: 1em; padding-right: 1em; text-align: center\">business_id</th>\n",
       "        <th style=\"padding-left: 1em; padding-right: 1em; text-align: center\">categories</th>\n",
       "        <th style=\"padding-left: 1em; padding-right: 1em; text-align: center\">city</th>\n",
       "        <th style=\"padding-left: 1em; padding-right: 1em; text-align: center\">full_address</th>\n",
       "        <th style=\"padding-left: 1em; padding-right: 1em; text-align: center\">latitude</th>\n",
       "        <th style=\"padding-left: 1em; padding-right: 1em; text-align: center\">longitude</th>\n",
       "    </tr>\n",
       "    <tr>\n",
       "        <td style=\"padding-left: 1em; padding-right: 1em; text-align: center; vertical-align: top\">VVeogjZya58oiTxK7qUjAQ</td>\n",
       "        <td style=\"padding-left: 1em; padding-right: 1em; text-align: center; vertical-align: top\">[Pizza, Restaurants]</td>\n",
       "        <td style=\"padding-left: 1em; padding-right: 1em; text-align: center; vertical-align: top\">Phoenix</td>\n",
       "        <td style=\"padding-left: 1em; padding-right: 1em; text-align: center; vertical-align: top\">623 E Adams St\\nPhoenix,<br>AZ 85004 ...</td>\n",
       "        <td style=\"padding-left: 1em; padding-right: 1em; text-align: center; vertical-align: top\">33.4492</td>\n",
       "        <td style=\"padding-left: 1em; padding-right: 1em; text-align: center; vertical-align: top\">-112.065</td>\n",
       "    </tr>\n",
       "    <tr>\n",
       "        <td style=\"padding-left: 1em; padding-right: 1em; text-align: center; vertical-align: top\">JokKtdXU7zXHcr20Lrk29A</td>\n",
       "        <td style=\"padding-left: 1em; padding-right: 1em; text-align: center; vertical-align: top\">[Bars, Food, Breweries,<br>Pubs, Nightlife, Amer ...</td>\n",
       "        <td style=\"padding-left: 1em; padding-right: 1em; text-align: center; vertical-align: top\">Tempe</td>\n",
       "        <td style=\"padding-left: 1em; padding-right: 1em; text-align: center; vertical-align: top\">1340 E 8th St\\nSte<br>104\\nTempe, AZ 85281 ...</td>\n",
       "        <td style=\"padding-left: 1em; padding-right: 1em; text-align: center; vertical-align: top\">33.4195</td>\n",
       "        <td style=\"padding-left: 1em; padding-right: 1em; text-align: center; vertical-align: top\">-111.916</td>\n",
       "    </tr>\n",
       "</table>\n",
       "<table frame=\"box\" rules=\"cols\">\n",
       "    <tr>\n",
       "        <th style=\"padding-left: 1em; padding-right: 1em; text-align: center\">name</th>\n",
       "        <th style=\"padding-left: 1em; padding-right: 1em; text-align: center\">open</th>\n",
       "        <th style=\"padding-left: 1em; padding-right: 1em; text-align: center\">review_count</th>\n",
       "        <th style=\"padding-left: 1em; padding-right: 1em; text-align: center\">stars</th>\n",
       "        <th style=\"padding-left: 1em; padding-right: 1em; text-align: center\">state</th>\n",
       "        <th style=\"padding-left: 1em; padding-right: 1em; text-align: center\">type</th>\n",
       "    </tr>\n",
       "    <tr>\n",
       "        <td style=\"padding-left: 1em; padding-right: 1em; text-align: center; vertical-align: top\">Pizzeria Bianco</td>\n",
       "        <td style=\"padding-left: 1em; padding-right: 1em; text-align: center; vertical-align: top\">1</td>\n",
       "        <td style=\"padding-left: 1em; padding-right: 1em; text-align: center; vertical-align: top\">803</td>\n",
       "        <td style=\"padding-left: 1em; padding-right: 1em; text-align: center; vertical-align: top\">4.0</td>\n",
       "        <td style=\"padding-left: 1em; padding-right: 1em; text-align: center; vertical-align: top\">AZ</td>\n",
       "        <td style=\"padding-left: 1em; padding-right: 1em; text-align: center; vertical-align: top\">business</td>\n",
       "    </tr>\n",
       "    <tr>\n",
       "        <td style=\"padding-left: 1em; padding-right: 1em; text-align: center; vertical-align: top\">Four Peaks Brewing Co</td>\n",
       "        <td style=\"padding-left: 1em; padding-right: 1em; text-align: center; vertical-align: top\">1</td>\n",
       "        <td style=\"padding-left: 1em; padding-right: 1em; text-align: center; vertical-align: top\">735</td>\n",
       "        <td style=\"padding-left: 1em; padding-right: 1em; text-align: center; vertical-align: top\">4.5</td>\n",
       "        <td style=\"padding-left: 1em; padding-right: 1em; text-align: center; vertical-align: top\">AZ</td>\n",
       "        <td style=\"padding-left: 1em; padding-right: 1em; text-align: center; vertical-align: top\">business</td>\n",
       "    </tr>\n",
       "</table>\n",
       "[2 rows x 12 columns]<br/>\n",
       "</div>"
      ],
      "text/plain": [
       "Columns:\n",
       "\tbusiness_id\tstr\n",
       "\tcategories\tlist\n",
       "\tcity\tstr\n",
       "\tfull_address\tstr\n",
       "\tlatitude\tfloat\n",
       "\tlongitude\tfloat\n",
       "\tname\tstr\n",
       "\topen\tint\n",
       "\treview_count\tint\n",
       "\tstars\tfloat\n",
       "\tstate\tstr\n",
       "\ttype\tstr\n",
       "\n",
       "Rows: 2\n",
       "\n",
       "Data:\n",
       "+------------------------+-------------------------------+---------+\n",
       "|      business_id       |           categories          |   city  |\n",
       "+------------------------+-------------------------------+---------+\n",
       "| VVeogjZya58oiTxK7qUjAQ |      [Pizza, Restaurants]     | Phoenix |\n",
       "| JokKtdXU7zXHcr20Lrk29A | [Bars, Food, Breweries, Pu... |  Tempe  |\n",
       "+------------------------+-------------------------------+---------+\n",
       "+-------------------------------+----------+-----------+-----------------------+\n",
       "|          full_address         | latitude | longitude |          name         |\n",
       "+-------------------------------+----------+-----------+-----------------------+\n",
       "| 623 E Adams St\\nPhoenix, A... | 33.4492  |  -112.065 |    Pizzeria Bianco    |\n",
       "| 1340 E 8th St\\nSte 104\\nTe... | 33.4195  |  -111.916 | Four Peaks Brewing Co |\n",
       "+-------------------------------+----------+-----------+-----------------------+\n",
       "+------+--------------+-------+-------+----------+\n",
       "| open | review_count | stars | state |   type   |\n",
       "+------+--------------+-------+-------+----------+\n",
       "|  1   |     803      |  4.0  |   AZ  | business |\n",
       "|  1   |     735      |  4.5  |   AZ  | business |\n",
       "+------+--------------+-------+-------+----------+\n",
       "[2 rows x 12 columns]"
      ]
     },
     "execution_count": 6,
     "metadata": {},
     "output_type": "execute_result"
    }
   ],
   "source": [
    "# pick 2 businesses and find a shortest path between them.\n",
    "business = gl.SFrame.read_csv('business.csv.gz', verbose=False)\n",
    "# A 4-stars business with 100 reviews is better than a 5-stars business with 1 review.\n",
    "# Let's look up two much reviewed, highly-starred businesses.\n",
    "top2 = business.filter_by([5, 4.5, 4], \"stars\").topk(\"review_count\", k=2)\n",
    "top2"
   ]
  },
  {
   "cell_type": "code",
   "execution_count": 7,
   "metadata": {
    "collapsed": false
   },
   "outputs": [
    {
     "data": {
      "text/html": [
       "<pre>+----------------------------+</pre>"
      ],
      "text/plain": [
       "+----------------------------+"
      ]
     },
     "metadata": {},
     "output_type": "display_data"
    },
    {
     "data": {
      "text/html": [
       "<pre>| Number of vertices updated |</pre>"
      ],
      "text/plain": [
       "| Number of vertices updated |"
      ]
     },
     "metadata": {},
     "output_type": "display_data"
    },
    {
     "data": {
      "text/html": [
       "<pre>+----------------------------+</pre>"
      ],
      "text/plain": [
       "+----------------------------+"
      ]
     },
     "metadata": {},
     "output_type": "display_data"
    },
    {
     "data": {
      "text/html": [
       "<pre>| 780                        |</pre>"
      ],
      "text/plain": [
       "| 780                        |"
      ]
     },
     "metadata": {},
     "output_type": "display_data"
    },
    {
     "data": {
      "text/html": [
       "<pre>| 21550                      |</pre>"
      ],
      "text/plain": [
       "| 21550                      |"
      ]
     },
     "metadata": {},
     "output_type": "display_data"
    },
    {
     "data": {
      "text/html": [
       "<pre>| 19668                      |</pre>"
      ],
      "text/plain": [
       "| 19668                      |"
      ]
     },
     "metadata": {},
     "output_type": "display_data"
    },
    {
     "data": {
      "text/html": [
       "<pre>| 6750                       |</pre>"
      ],
      "text/plain": [
       "| 6750                       |"
      ]
     },
     "metadata": {},
     "output_type": "display_data"
    },
    {
     "data": {
      "text/html": [
       "<pre>| 1291                       |</pre>"
      ],
      "text/plain": [
       "| 1291                       |"
      ]
     },
     "metadata": {},
     "output_type": "display_data"
    },
    {
     "data": {
      "text/html": [
       "<pre>| 64                         |</pre>"
      ],
      "text/plain": [
       "| 64                         |"
      ]
     },
     "metadata": {},
     "output_type": "display_data"
    },
    {
     "data": {
      "text/html": [
       "<pre>| 2                          |</pre>"
      ],
      "text/plain": [
       "| 2                          |"
      ]
     },
     "metadata": {},
     "output_type": "display_data"
    },
    {
     "data": {
      "text/html": [
       "<pre>| 0                          |</pre>"
      ],
      "text/plain": [
       "| 0                          |"
      ]
     },
     "metadata": {},
     "output_type": "display_data"
    },
    {
     "data": {
      "text/html": [
       "<pre>+----------------------------+</pre>"
      ],
      "text/plain": [
       "+----------------------------+"
      ]
     },
     "metadata": {},
     "output_type": "display_data"
    },
    {
     "data": {
      "text/plain": [
       "[('VVeogjZya58oiTxK7qUjAQ', 0.0),\n",
       " ('-4A5xmN21zi_TXnUESauUQ', 1.0),\n",
       " ('FCJHirFzEtj4M1VcuaKieg', 2.0),\n",
       " ('JokKtdXU7zXHcr20Lrk29A', 3.0)]"
      ]
     },
     "execution_count": 7,
     "metadata": {},
     "output_type": "execute_result"
    }
   ],
   "source": [
    "business_id1 = top2[0]['business_id']\n",
    "business_id2 = top2['business_id'][1]\n",
    "\n",
    "sp_tree = gl.graph_analytics.shortest_path.create(similarity_graph, business_id1)\n",
    "path = sp_tree.get_path(business_id2)\n",
    "path"
   ]
  },
  {
   "cell_type": "code",
   "execution_count": 8,
   "metadata": {
    "collapsed": true
   },
   "outputs": [],
   "source": [
    "business_id_to_name = {b_id: name for b_id, name in zip(business[\"business_id\"], business[\"name\"])}"
   ]
  },
  {
   "cell_type": "code",
   "execution_count": 9,
   "metadata": {
    "collapsed": false
   },
   "outputs": [
    {
     "name": "stdout",
     "output_type": "stream",
     "text": [
      "0) Pizzeria Bianco (id=VVeogjZya58oiTxK7qUjAQ)\n",
      "1) D'lish (id=-4A5xmN21zi_TXnUESauUQ)\n",
      "2) Children's Museum Of Phoenix (id=FCJHirFzEtj4M1VcuaKieg)\n",
      "3) Four Peaks Brewing Co (id=JokKtdXU7zXHcr20Lrk29A)\n"
     ]
    }
   ],
   "source": [
    "for (b_id, step) in path:\n",
    "    print \"%d) %s (id=%s)\" % (step, business_id_to_name[b_id], b_id)"
   ]
  },
  {
   "cell_type": "code",
   "execution_count": 10,
   "metadata": {
    "collapsed": false
   },
   "outputs": [
    {
     "name": "stdout",
     "output_type": "stream",
     "text": [
      "0) Pizzeria Bianco (id=VVeogjZya58oiTxK7qUjAQ)\n",
      "3) Scottsdale Fashion Square (id=Hdi7jkB7pHiM1nyPHcqSdw)\n",
      "4) Hob Nobs Cafe & Spirits (id=4sW8Z6NLXLRkruSKSKUEUw)\n",
      "6) Bandera (id=7QSYBp2-AOdyUJXEaLnbgA)\n",
      "7) Solo Caf Gourmet Coffee & Tea House (id=ABC57h7Dh1Vy9q3cztAm5A)\n",
      "9) Grazie Pizzeria & Wine Bar (id=k6Si433-EJrY4J7SZxsnjA)\n",
      "10) Pita Jungle (id=qwmHm3s8p7J12AIY6Co8HQ)\n",
      "11) Olive & Ivy (id=53YGfwmbW73JhFiemNeyzQ)\n",
      "12) Four Peaks Brewing Co (id=JokKtdXU7zXHcr20Lrk29A)\n"
     ]
    }
   ],
   "source": [
    "weighted_sp_tree = gl.shortest_path.create(similarity_graph, business_id1, weight_field='rank', verbose=False)\n",
    "weighted_path = weighted_sp_tree.get_path(business_id2)\n",
    "\n",
    "for (b_id, step) in weighted_path:\n",
    "    print \"%d) %s (id=%s)\" % (step, business_id_to_name[b_id], b_id) "
   ]
  },
  {
   "cell_type": "code",
   "execution_count": 11,
   "metadata": {
    "collapsed": false
   },
   "outputs": [
    {
     "name": "stdout",
     "output_type": "stream",
     "text": [
      "0) Pizzeria Bianco (id=VVeogjZya58oiTxK7qUjAQ)\n",
      "3) Scottsdale Fashion Square (id=Hdi7jkB7pHiM1nyPHcqSdw)\n",
      "4) Hob Nobs Cafe & Spirits (id=4sW8Z6NLXLRkruSKSKUEUw)\n",
      "6) Bandera (id=7QSYBp2-AOdyUJXEaLnbgA)\n",
      "7) Solo Caf Gourmet Coffee & Tea House (id=ABC57h7Dh1Vy9q3cztAm5A)\n",
      "9) Grazie Pizzeria & Wine Bar (id=k6Si433-EJrY4J7SZxsnjA)\n",
      "10) Pita Jungle (id=qwmHm3s8p7J12AIY6Co8HQ)\n",
      "11) Olive & Ivy (id=53YGfwmbW73JhFiemNeyzQ)\n",
      "12) Four Peaks Brewing Co (id=JokKtdXU7zXHcr20Lrk29A)\n"
     ]
    }
   ],
   "source": [
    "filtered_business = business.filter_by([_[0] for _ in weighted_path], \"business_id\")\n",
    "small_business_id_to_name = {b_id: name for b_id, name in zip(filtered_business[\"business_id\"], filtered_business[\"name\"])}\n",
    "for (b_id, step) in weighted_path:\n",
    "    print \"%d) %s (id=%s)\" % (step, small_business_id_to_name[b_id], b_id) "
   ]
  },
  {
   "cell_type": "code",
   "execution_count": 12,
   "metadata": {
    "collapsed": false
   },
   "outputs": [],
   "source": [
    "# wrap the path search into a function\n",
    "\n",
    "def pathways(business1, business2, verbose=True):\n",
    "    \"\"\"Given two business IDs, find the shortest paths between these two.\"\"\"\n",
    "    weighted_sp_tree = gl.shortest_path.create(similarity_graph, business1, weight_field='rank', verbose=False)\n",
    "    weighted_path = weighted_sp_tree.get_path(business2)\n",
    "    if verbose:\n",
    "        filtered_business = business.filter_by([_[0] for _ in path], \"business_id\")\n",
    "        small_business_id_to_name = {b_id: name for b_id, name in zip(filtered_business[\"business_id\"], filtered_business[\"name\"])}\n",
    "        for (b_id, step) in weighted_path:\n",
    "            print \"%d) %s (id=%s)\" % (step, business_id_to_name[b_id], b_id)\n",
    "    return weighted_path"
   ]
  },
  {
   "cell_type": "code",
   "execution_count": 13,
   "metadata": {
    "collapsed": false
   },
   "outputs": [
    {
     "name": "stdout",
     "output_type": "stream",
     "text": [
      "0) Pizzeria Bianco (id=VVeogjZya58oiTxK7qUjAQ)\n",
      "3) Scottsdale Fashion Square (id=Hdi7jkB7pHiM1nyPHcqSdw)\n",
      "4) Hob Nobs Cafe & Spirits (id=4sW8Z6NLXLRkruSKSKUEUw)\n",
      "6) Bandera (id=7QSYBp2-AOdyUJXEaLnbgA)\n",
      "7) Solo Caf Gourmet Coffee & Tea House (id=ABC57h7Dh1Vy9q3cztAm5A)\n",
      "9) Grazie Pizzeria & Wine Bar (id=k6Si433-EJrY4J7SZxsnjA)\n",
      "10) Pita Jungle (id=qwmHm3s8p7J12AIY6Co8HQ)\n",
      "11) Olive & Ivy (id=53YGfwmbW73JhFiemNeyzQ)\n",
      "12) Four Peaks Brewing Co (id=JokKtdXU7zXHcr20Lrk29A)\n"
     ]
    }
   ],
   "source": [
    "pathways(business_id1, business_id2)\n",
    "pass"
   ]
  }
 ],
 "metadata": {
  "kernelspec": {
   "display_name": "Python 2",
   "language": "python",
   "name": "python2"
  },
  "language_info": {
   "codemirror_mode": {
    "name": "ipython",
    "version": 2
   },
   "file_extension": ".py",
   "mimetype": "text/x-python",
   "name": "python",
   "nbconvert_exporter": "python",
   "pygments_lexer": "ipython2",
   "version": "2.7.10"
  },
  "widgets": {
   "state": {},
   "version": "1.1.1"
  }
 },
 "nbformat": 4,
 "nbformat_minor": 0
}
